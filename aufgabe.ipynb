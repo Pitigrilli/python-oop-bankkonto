{
 "cells": [
  {
   "cell_type": "markdown",
   "metadata": {},
   "source": [
    "# Aufgabe: Implementiere eine Klasse Bankkonto\n",
    "Implementiere eine Klasse `Bankkonto` mit folgenden Eigenschaften:\n",
    "- Attribut `inhaber` (str)\n",
    "- Attribut `kontostand` (float, Startwert 0)\n",
    "\n",
    "**Methoden:**\n",
    "- `einzahlen(betrag)`: erhöht den Kontostand\n",
    "- `abheben(betrag)`: verringert den Kontostand, wenn genug Guthaben vorhanden ist\n",
    "- `gib_kontostand()`: gibt den aktuellen Kontostand zurück"
   ]
  },
  {
   "cell_type": "code",
   "execution_count": null,
   "metadata": {},
   "outputs": [],
   "source": [
    "# Deine Lösung hier:\n",
    "\n",
    "class Bankkonto:\n",
    "    def __init__(self, inhaber):\n",
    "        pass  # TODO\n",
    "\n",
    "    def einzahlen(self, betrag):\n",
    "        pass  # TODO\n",
    "\n",
    "    def abheben(self, betrag):\n",
    "        pass  # TODO\n",
    "\n",
    "    def gib_kontostand(self):\n",
    "        pass  # TODO"
   ]
  }
 ],
 "metadata": {
  "kernelspec": {
   "display_name": "Python 3",
   "language": "python",
   "name": "python3"
  },
  "language_info": {
   "name": "python",
   "version": ""
  }
 },
 "nbformat": 4,
 "nbformat_minor": 2
}